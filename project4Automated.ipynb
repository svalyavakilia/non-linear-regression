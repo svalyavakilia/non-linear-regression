{
  "nbformat": 4,
  "nbformat_minor": 0,
  "metadata": {
    "colab": {
      "name": "project4Automated.ipynb",
      "provenance": [],
      "collapsed_sections": []
    },
    "kernelspec": {
      "name": "python3",
      "display_name": "Python 3"
    },
    "language_info": {
      "name": "python"
    }
  },
  "cells": [
    {
      "cell_type": "markdown",
      "source": [
        "1) Wczytaj dane z pliku daneXX.txt. Zaproponuj i zrealizuj podział tych danych na dane treningowe i dane testowe,\n",
        "\n",
        "2) Zaproponuj liniowy model parametryczny Model 1. Określ parametry modelu stosując metodę najmniejszych kwadratów dla danych treningowych,\n",
        "\n",
        "3) Zweryfikuj poprawność Modelu 1,\n",
        "\n",
        "4) Zaproponuj bardziej złożony, model regresji nieliniowej Model 2. Określ parametry modelu stosując metodę najmniejszych kwadratów dla danych treningowych,\n",
        "\n",
        "5) Zweryfikuj poprawność Modelu 2,\n",
        "\n",
        "6) Porównaj oba modele.\n",
        "\n",
        "gdzie XX jest numerem zestawu. W każdej linii pliku pierwsza liczba określa\n",
        "wejście a druga wartość wyjścia\n",
        "\n",
        "Zbiór danych znajduje się w pliku Dane_Drojekt_4.zip proszę przetestowąć programy na wszystkich plikach danych."
      ],
      "metadata": {
        "id": "-gAOCaS4tYgm"
      }
    },
    {
      "cell_type": "code",
      "source": [
        "from google.colab import drive\n",
        "import numpy as np\n",
        "from sklearn.model_selection import train_test_split\n",
        "import matplotlib.pyplot as plt\n",
        "\n",
        "drive.mount('/content/drive', force_remount = True)"
      ],
      "metadata": {
        "colab": {
          "base_uri": "https://localhost:8080/"
        },
        "id": "0Yh85rKbuB_Z",
        "outputId": "dfdab54d-de1e-4cd5-d9e9-bc815fd2b595"
      },
      "execution_count": 1,
      "outputs": [
        {
          "output_type": "stream",
          "name": "stdout",
          "text": [
            "Mounted at /content/drive\n"
          ]
        }
      ]
    },
    {
      "cell_type": "code",
      "source": [
        "def generate_left_matrix(x_coordinates, power):\n",
        "    max_power = power + power\n",
        "\n",
        "    left_matrix = []\n",
        "\n",
        "    row_index = 0\n",
        "\n",
        "    while row_index <= power:\n",
        "        row = []\n",
        "        \n",
        "        column_index = 0\n",
        "\n",
        "        current_power = max_power\n",
        "\n",
        "        while column_index <= power:\n",
        "            row.append(np.sum(x_coordinates ** current_power))\n",
        "\n",
        "            current_power -= 1\n",
        "            column_index += 1\n",
        "\n",
        "        row_index += 1\n",
        "        max_power -= 1\n",
        "\n",
        "        left_matrix.append(row)\n",
        "\n",
        "    return left_matrix"
      ],
      "metadata": {
        "id": "YeJeuvGIqwB1"
      },
      "execution_count": 2,
      "outputs": []
    },
    {
      "cell_type": "code",
      "source": [
        "def generate_right_matrix(x_coordinates, y_coordinates, power):\n",
        "    right_matrix = []\n",
        "\n",
        "    while power >= 0:\n",
        "        right_matrix.append([np.sum((x_coordinates ** power) * y_coordinates)])\n",
        "\n",
        "        power -= 1\n",
        "\n",
        "    return right_matrix"
      ],
      "metadata": {
        "id": "XhxpIhPayhTL"
      },
      "execution_count": 3,
      "outputs": []
    },
    {
      "cell_type": "code",
      "source": [
        "def print_ws(ws):\n",
        "    max_power = len(ws) - 1\n",
        "\n",
        "    index = len(ws) - 1\n",
        "\n",
        "    while index >= 0:\n",
        "        print(\"w{} = {}\".format(index, ws[max_power - index][0]))\n",
        "\n",
        "        index -= 1"
      ],
      "metadata": {
        "id": "1fIt3-WO1JEU"
      },
      "execution_count": 4,
      "outputs": []
    },
    {
      "cell_type": "code",
      "source": [
        "def calculate_sum_of_squared_errors(ws, x_coordinates, y_coordinates):\n",
        "    max_power = len(ws) - 1\n",
        "\n",
        "    point_index = 0\n",
        "    \n",
        "    number_of_points = len(x_coordinates)\n",
        "\n",
        "    sum_of_squared_errors = 0\n",
        "\n",
        "    while point_index < number_of_points:\n",
        "        x = x_coordinates[point_index]\n",
        "        y = y_coordinates[point_index]\n",
        "\n",
        "        index = 0\n",
        "\n",
        "        output = 0\n",
        "\n",
        "        while index <= max_power:\n",
        "            output += (ws[index][0] * (x ** (max_power - index)))\n",
        "\n",
        "            index += 1\n",
        "\n",
        "        error = y - output\n",
        "\n",
        "        sum_of_squared_errors += (error ** 2)\n",
        "\n",
        "        point_index += 1\n",
        "    \n",
        "    return sum_of_squared_errors"
      ],
      "metadata": {
        "id": "JMkVlDuS28NA"
      },
      "execution_count": 5,
      "outputs": []
    },
    {
      "cell_type": "code",
      "source": [
        "def create_function(ws, x_linspace):\n",
        "    function = 0\n",
        "\n",
        "    max_power = len(ws) - 1\n",
        "\n",
        "    index = max_power\n",
        "\n",
        "    while index >= 0:\n",
        "        function += (ws[index][0] * (x_linspace ** (max_power - index)))\n",
        "\n",
        "        index -= 1\n",
        "\n",
        "    return function"
      ],
      "metadata": {
        "id": "PtBX2cJo5WLq"
      },
      "execution_count": 6,
      "outputs": []
    },
    {
      "cell_type": "code",
      "source": [
        "def generate_model(file_number, power):\n",
        "    file = open(\n",
        "        \"/content/drive/MyDrive/miwProjects/project4/dane/dane{}.txt\".format(\n",
        "            file_number\n",
        "        )\n",
        "    )\n",
        "\n",
        "    x_coordinates = []\n",
        "    y_coordinates = []\n",
        "\n",
        "    for row in file:\n",
        "        point = row.split(\" \")\n",
        "        x_coordinates.append(float(point[0]))\n",
        "        y_coordinates.append(float(point[1]))\n",
        "\n",
        "    x_train, x_test, y_train, y_test = train_test_split(\n",
        "        x_coordinates, y_coordinates, test_size = 0.25, random_state = 1\n",
        "    )\n",
        "\n",
        "    xs = np.array(x_train)\n",
        "    ys = np.array(y_train)\n",
        "\n",
        "    n = len(x_train)\n",
        "\n",
        "    left_matrix = np.array(generate_left_matrix(xs, power))\n",
        "    left_matrix = np.linalg.inv(left_matrix)\n",
        "\n",
        "    right_matrix = np.array(generate_right_matrix(xs, ys, power))\n",
        "\n",
        "    ws = left_matrix @ right_matrix;\n",
        "\n",
        "    print_ws(ws)\n",
        "\n",
        "    sum_of_squared_errors = calculate_sum_of_squared_errors(\n",
        "        ws, x_train, y_train\n",
        "    )\n",
        "\n",
        "    print(\"sum of squared errors: {}\".format(sum_of_squared_errors))\n",
        "\n",
        "    x_linspace = np.linspace(min(x_coordinates), max(x_coordinates), 100)\n",
        "\n",
        "    function = create_function(ws, x_linspace)\n",
        "\n",
        "    plt.plot(x_coordinates, y_coordinates, \"y*\")\n",
        "    plt.plot(x_linspace, function, \"y\")\n",
        "    plt.plot(x_test, y_test, \"go\")\n",
        "    plt.title(\"file №{}, power {}\".format(file_number, power))\n",
        "    plt.show()"
      ],
      "metadata": {
        "id": "tnvlcYfXF2h4"
      },
      "execution_count": 7,
      "outputs": []
    },
    {
      "cell_type": "code",
      "source": [
        "generate_model(file_number = 17, power = 4)"
      ],
      "metadata": {
        "colab": {
          "base_uri": "https://localhost:8080/",
          "height": 385
        },
        "id": "Sinc75WBwzdL",
        "outputId": "9c0d12f0-4801-49f3-f4e7-9e2c8a75d8b3"
      },
      "execution_count": 8,
      "outputs": [
        {
          "output_type": "stream",
          "name": "stdout",
          "text": [
            "w4 = -0.0657264361878039\n",
            "w3 = -0.13519575152542948\n",
            "w2 = 0.843814910260699\n",
            "w1 = 1.7122526209297728\n",
            "w0 = -0.2405380615261894\n",
            "sum of squared errors: 3.5797530444341668\n"
          ]
        },
        {
          "output_type": "display_data",
          "data": {
            "text/plain": [
              "<Figure size 432x288 with 1 Axes>"
            ],
            "image/png": "[encoded data removed]"
          },
          "metadata": {
            "needs_background": "light"
          }
        }
      ]
    }
  ]
}